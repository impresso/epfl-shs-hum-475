{
 "cells": [
  {
   "cell_type": "markdown",
   "id": "722c1600",
   "metadata": {},
   "source": [
    "# Script to get the text from Retronews data\n",
    "\n",
    "Attention, Retronews does not have page segmentation. It's a pity but there nothing we can do about it. Thus the collected text includes all what is on a page."
   ]
  },
  {
   "cell_type": "code",
   "execution_count": null,
   "id": "ed833e7e",
   "metadata": {},
   "outputs": [],
   "source": [
    "from pathlib import Path\n",
    "import glob\n",
    "from tqdm import tqdm\n",
    "import json\n",
    "import itertools\n",
    "import os"
   ]
  },
  {
   "cell_type": "code",
   "execution_count": null,
   "id": "00d21c54",
   "metadata": {},
   "outputs": [],
   "source": [
    "# the directory where the retronews folders are\n",
    "dir_root = '[/insert/absolute/path/to/]epfl-shs-hum-475/data/'"
   ]
  },
  {
   "cell_type": "code",
   "execution_count": null,
   "id": "ee50ceb5",
   "metadata": {},
   "outputs": [],
   "source": [
    "# list of retronews folders\n",
    "dir_data = ['info_134598-2023-03-20-08-26-14/', 'info_134598-2023-04-17-09-59-51/']"
   ]
  },
  {
   "cell_type": "code",
   "execution_count": null,
   "id": "b9d97ff6",
   "metadata": {},
   "outputs": [],
   "source": [
    "dir_to_parse = [dir_root + d for d in dir_data]"
   ]
  },
  {
   "cell_type": "code",
   "execution_count": 5,
   "id": "70dd11c2",
   "metadata": {},
   "outputs": [
    {
     "name": "stderr",
     "output_type": "stream",
     "text": [
      "100%|████████████████████████████████████████████████████████████████████████████████████████████████████████████████████████████████████████████████████████████████████████████████████████████████████████████████████████████████████████████████████████████████████████████████████████████████████████████████████████████████████| 272/272 [00:00<00:00, 938.56it/s]\n"
     ]
    },
    {
     "name": "stdout",
     "output_type": "stream",
     "text": [
      "Looking at dir: /Users/ehrmann/Work/work-projects/impresso/code/epfl-shs-hum-475/data/info_134598-2023-04-17-09-59-51/\n"
     ]
    },
    {
     "name": "stderr",
     "output_type": "stream",
     "text": [
      "100%|███████████████████████████████████████████████████████████████████████████████████████████████████████████████████████████████████████████████████████████████████████████████████████████████████████████████████████████████████████████████████████████████████████████████████████████████████████████████████████████████████| 984/984 [00:00<00:00, 1087.62it/s]\n"
     ]
    }
   ],
   "source": [
    "for d in dir_to_parse:\n",
    "    \n",
    "    # collect all json files in the folder recursively\n",
    "    print(\"Looking at dir:\", d)\n",
    "    files = [path for path in glob.glob(d+'**/*.alto.json', recursive=True)]\n",
    "\n",
    "    for f in tqdm(files):\n",
    "        # build the file out name\n",
    "        parts =  f.split(\"/\")[-4:]\n",
    "        dir_out = dir_root + ''.join(['output/', parts[0], '/'])\n",
    "        f_out = dir_out  + '_'.join([parts[0], parts[2], 'text.json'])\n",
    "        Path(dir_out).mkdir(parents=True, exist_ok=True)\n",
    "        #print(\"Parsing: \", f)\n",
    "        \n",
    "        with open(f, 'r') as json_file:\n",
    "            page_out = {}\n",
    "            page_out['orig_file'] = f\n",
    "            try:\n",
    "                alto_json = json.loads(json_file.read())\n",
    "            except Exception as e :\n",
    "                print(\"Could not parse file: \", f, str(e))\n",
    "                continue\n",
    "                \n",
    "            pages = [d['pages'] for d in alto_json['documents']]\n",
    "            blocks = [p['blocks'] for p in pages[0]]\n",
    "            blocks_flat = list(itertools.chain(*blocks))\n",
    "            text_page = ''.join(b['text'] for b in blocks_flat)\n",
    "            page_out['text'] = text_page\n",
    "            \n",
    "            \n",
    "        with open(f_out, 'w', encoding='utf-8') as f:\n",
    "            #print(\"Writing: \", f_out)\n",
    "            json.dump(page_out, f, ensure_ascii=False, indent=4)"
   ]
  }
 ],
 "metadata": {
  "kernelspec": {
   "display_name": "Python 3 (ipykernel)",
   "language": "python",
   "name": "python3"
  },
  "language_info": {
   "codemirror_mode": {
    "name": "ipython",
    "version": 3
   },
   "file_extension": ".py",
   "mimetype": "text/x-python",
   "name": "python",
   "nbconvert_exporter": "python",
   "pygments_lexer": "ipython3",
   "version": "3.10.0"
  }
 },
 "nbformat": 4,
 "nbformat_minor": 5
}
